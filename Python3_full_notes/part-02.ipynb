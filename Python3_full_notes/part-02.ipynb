{
 "cells": [
  {
   "cell_type": "code",
   "execution_count": 9,
   "id": "8783f3ae",
   "metadata": {},
   "outputs": [],
   "source": [
    "# input \n",
    "# type casting"
   ]
  },
  {
   "cell_type": "code",
   "execution_count": 1,
   "id": "ae709e8e",
   "metadata": {},
   "outputs": [
    {
     "name": "stdout",
     "output_type": "stream",
     "text": [
      "5\n"
     ]
    }
   ],
   "source": [
    "a=2\n",
    "b=3\n",
    "c=a+b\n",
    "print(c)"
   ]
  },
  {
   "cell_type": "code",
   "execution_count": 2,
   "id": "6ffa91e0",
   "metadata": {},
   "outputs": [
    {
     "name": "stdout",
     "output_type": "stream",
     "text": [
      "enter 1st no : 5\n",
      "enter 2nd no : 5\n",
      "10\n"
     ]
    }
   ],
   "source": [
    "a=int(input(\"enter 1st no : \"))\n",
    "b=int(input(\"enter 2nd no : \"))\n",
    "c=a+b\n",
    "print(c)\n",
    "#print(\"Total is : ,\"c)"
   ]
  },
  {
   "cell_type": "code",
   "execution_count": 3,
   "id": "431a4a5e",
   "metadata": {},
   "outputs": [
    {
     "name": "stdout",
     "output_type": "stream",
     "text": [
      "enter any no : 5\n",
      "25\n"
     ]
    }
   ],
   "source": [
    "# Square\n",
    "a=int(input(\"enter any no : \"))\n",
    "no=a*a\n",
    "print(no)"
   ]
  },
  {
   "cell_type": "markdown",
   "id": "42f2712b",
   "metadata": {},
   "source": [
    "**Home Work**\n",
    "\n",
    "Q1 simple interest\n",
    "\n",
    "Q2 Area of Triangle"
   ]
  },
  {
   "cell_type": "code",
   "execution_count": 6,
   "id": "4f1c771a",
   "metadata": {},
   "outputs": [
    {
     "name": "stdout",
     "output_type": "stream",
     "text": [
      "Enter Radius value : 5\n",
      "Result is :  78.5\n"
     ]
    }
   ],
   "source": [
    "# Area of circle (pi*r*r)\n",
    "r=float(input(\"Enter Radius value : \"))\n",
    "no=3.14*r*r\n",
    "print(\"Result is : \",no)"
   ]
  },
  {
   "cell_type": "code",
   "execution_count": 7,
   "id": "1fcdbc5e",
   "metadata": {},
   "outputs": [
    {
     "name": "stdout",
     "output_type": "stream",
     "text": [
      "enter principal value : 2000\n",
      "enter rate value : 5\n",
      "enter time value 1\n",
      "100.0\n"
     ]
    }
   ],
   "source": [
    "# simple interest p*r*t/100\n",
    "p=float(input(\"enter principal value : \"))\n",
    "r=float(input(\"enter rate value : \"))\n",
    "t=float(input(\"enter time value \"))\n",
    "i=(p*r*t)/100\n",
    "print(i)"
   ]
  },
  {
   "cell_type": "code",
   "execution_count": 8,
   "id": "38e5dbed",
   "metadata": {},
   "outputs": [
    {
     "name": "stdout",
     "output_type": "stream",
     "text": [
      "Enter height value : 4\n",
      "Enter base value : 2\n",
      "2.0\n"
     ]
    }
   ],
   "source": [
    "# Area of Triangle \n",
    "h=float(input(\"Enter height value : \"))\n",
    "b=float(input(\"Enter base value : \"))\n",
    "A=(b*b)/2\n",
    "print(A)"
   ]
  },
  {
   "cell_type": "code",
   "execution_count": null,
   "id": "5d5d9a7c",
   "metadata": {},
   "outputs": [],
   "source": []
  }
 ],
 "metadata": {
  "kernelspec": {
   "display_name": "Python 3 (ipykernel)",
   "language": "python",
   "name": "python3"
  },
  "language_info": {
   "codemirror_mode": {
    "name": "ipython",
    "version": 3
   },
   "file_extension": ".py",
   "mimetype": "text/x-python",
   "name": "python",
   "nbconvert_exporter": "python",
   "pygments_lexer": "ipython3",
   "version": "3.9.7"
  }
 },
 "nbformat": 4,
 "nbformat_minor": 5
}
