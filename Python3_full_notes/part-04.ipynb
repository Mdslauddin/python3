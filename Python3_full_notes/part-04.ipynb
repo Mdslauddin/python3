{
 "cells": [
  {
   "cell_type": "markdown",
   "id": "0cf12ff6",
   "metadata": {},
   "source": [
    "**string &  string Methods**\n",
    "\n",
    "$ collection \\ of character $"
   ]
  },
  {
   "cell_type": "code",
   "execution_count": 1,
   "id": "da913850",
   "metadata": {},
   "outputs": [
    {
     "name": "stdout",
     "output_type": "stream",
     "text": [
      "My name is md slaudin \n"
     ]
    }
   ],
   "source": [
    "name=\"My name is md slaudin \"\n",
    "print(name)"
   ]
  },
  {
   "cell_type": "code",
   "execution_count": 3,
   "id": "261c3c8a",
   "metadata": {},
   "outputs": [
    {
     "name": "stdout",
     "output_type": "stream",
     "text": [
      "Enter your name : Md slauddin \n",
      "Hi Md slauddin \n"
     ]
    }
   ],
   "source": [
    "name=input(\"Enter your name : \")\n",
    "print(\"Hi \"+name) #concatinate"
   ]
  },
  {
   "cell_type": "code",
   "execution_count": 4,
   "id": "5ea8bed3",
   "metadata": {},
   "outputs": [
    {
     "name": "stdout",
     "output_type": "stream",
     "text": [
      "14\n"
     ]
    }
   ],
   "source": [
    "# method name len()\n",
    "data=\"python course \"\n",
    "x=len(data)\n",
    "print(x)"
   ]
  },
  {
   "cell_type": "code",
   "execution_count": 6,
   "id": "44cdf220",
   "metadata": {},
   "outputs": [
    {
     "name": "stdout",
     "output_type": "stream",
     "text": [
      "python course\n"
     ]
    }
   ],
   "source": [
    "# method name lower()\n",
    "data=\"PythoN Course\"\n",
    "x=(data.lower())\n",
    "print(x)"
   ]
  },
  {
   "cell_type": "code",
   "execution_count": 8,
   "id": "6c76c4eb",
   "metadata": {},
   "outputs": [
    {
     "name": "stdout",
     "output_type": "stream",
     "text": [
      "PYTHON COURSE\n"
     ]
    }
   ],
   "source": [
    "# method name upper()\n",
    "data='python course'\n",
    "x=(data.upper())\n",
    "print(x)"
   ]
  },
  {
   "cell_type": "code",
   "execution_count": 9,
   "id": "b31907de",
   "metadata": {},
   "outputs": [
    {
     "name": "stdout",
     "output_type": "stream",
     "text": [
      "python classes\n"
     ]
    }
   ],
   "source": [
    "# method name replace()\n",
    "data=\"python course\"\n",
    "x=(data.replace(\"course\",\"classes\"))\n",
    "print(x)"
   ]
  },
  {
   "cell_type": "code",
   "execution_count": 10,
   "id": "a49f0847",
   "metadata": {},
   "outputs": [
    {
     "name": "stdout",
     "output_type": "stream",
     "text": [
      "['python', 'course']\n"
     ]
    }
   ],
   "source": [
    "# mehtod name split()\n",
    "data=\"python course\"\n",
    "x=data.split()\n",
    "print(x)"
   ]
  },
  {
   "cell_type": "code",
   "execution_count": 11,
   "id": "49ae9499",
   "metadata": {},
   "outputs": [
    {
     "name": "stdout",
     "output_type": "stream",
     "text": [
      "Python course\n"
     ]
    }
   ],
   "source": [
    "# mathod name capitalize()\n",
    "data=\"python course\"\n",
    "x=(data.capitalize())\n",
    "print(x)"
   ]
  },
  {
   "cell_type": "code",
   "execution_count": 13,
   "id": "f957149b",
   "metadata": {},
   "outputs": [
    {
     "name": "stdout",
     "output_type": "stream",
     "text": [
      "                  python course                   \n"
     ]
    }
   ],
   "source": [
    "# method name center()\n",
    "data=\"python course \"\n",
    "x=(data.center(50))\n",
    "print(x)"
   ]
  },
  {
   "cell_type": "code",
   "execution_count": 15,
   "id": "9c9a2707",
   "metadata": {},
   "outputs": [
    {
     "name": "stdout",
     "output_type": "stream",
     "text": [
      "True\n"
     ]
    }
   ],
   "source": [
    "# methods name endswith()\n",
    "data=\"python course\"\n",
    "x=(data.endswith(\"se\")) # tr, on \n",
    "print(x)"
   ]
  },
  {
   "cell_type": "code",
   "execution_count": 16,
   "id": "0fb19651",
   "metadata": {},
   "outputs": [
    {
     "name": "stdout",
     "output_type": "stream",
     "text": [
      "7\n"
     ]
    }
   ],
   "source": [
    "# methods name find()\n",
    "data=\"python course \"\n",
    "x=(data.find(\"co\")) #o\n",
    "print(x)"
   ]
  },
  {
   "cell_type": "code",
   "execution_count": 17,
   "id": "6742b02d",
   "metadata": {},
   "outputs": [
    {
     "name": "stdout",
     "output_type": "stream",
     "text": [
      "3\n"
     ]
    }
   ],
   "source": [
    "# method name Index()\n",
    "data=\"python course \"\n",
    "x=(data.index(\"h\"))\n",
    "print(x)"
   ]
  },
  {
   "cell_type": "code",
   "execution_count": 24,
   "id": "fd302d52",
   "metadata": {},
   "outputs": [
    {
     "name": "stdout",
     "output_type": "stream",
     "text": [
      "False\n"
     ]
    }
   ],
   "source": [
    "# method name isalpha()\n",
    "data=\"python course \"\n",
    "#data=\"python 234 course\"\n",
    "#data=\"2345\"\n",
    "#x=(data.isalpha())\n",
    "print(x)"
   ]
  },
  {
   "cell_type": "code",
   "execution_count": 25,
   "id": "8e6f8ac3",
   "metadata": {},
   "outputs": [
    {
     "name": "stdout",
     "output_type": "stream",
     "text": [
      "True\n"
     ]
    }
   ],
   "source": [
    "# method name isdigit()\n",
    "data=\"1234\" # \"python\"\n",
    "x=(data.isdigit())\n",
    "print(x)"
   ]
  },
  {
   "cell_type": "code",
   "execution_count": 29,
   "id": "f7a92ceb",
   "metadata": {},
   "outputs": [
    {
     "name": "stdout",
     "output_type": "stream",
     "text": [
      "True\n"
     ]
    }
   ],
   "source": [
    "# method name isspace()\n",
    "#data=\"python course\"\n",
    "data= \" \"\n",
    "x=(data.isspace())\n",
    "print(x)"
   ]
  },
  {
   "cell_type": "code",
   "execution_count": 30,
   "id": "73e5116a",
   "metadata": {},
   "outputs": [
    {
     "name": "stdout",
     "output_type": "stream",
     "text": [
      "True\n"
     ]
    }
   ],
   "source": [
    "# method name istitle()\n",
    "data= \"Python Course\"\n",
    "x=data.istitle()\n",
    "print(x)"
   ]
  },
  {
   "cell_type": "code",
   "execution_count": 31,
   "id": "fe226e07",
   "metadata": {},
   "outputs": [
    {
     "name": "stdout",
     "output_type": "stream",
     "text": [
      "2\n"
     ]
    }
   ],
   "source": [
    "# method name count()\n",
    "data=\"I Like Apple and I also Like mango \"\n",
    "x=(data.count(\"Like\"))\n",
    "print(x)"
   ]
  },
  {
   "cell_type": "code",
   "execution_count": 32,
   "id": "e1c2e609",
   "metadata": {},
   "outputs": [
    {
     "name": "stdout",
     "output_type": "stream",
     "text": [
      "sumit*salman*peter\n"
     ]
    }
   ],
   "source": [
    "#  method name join()\n",
    "List=[\"sumit\",\"salman\",\"peter\"]\n",
    "x=\"*\".join(List)\n",
    "print(x)"
   ]
  },
  {
   "cell_type": "code",
   "execution_count": null,
   "id": "3715d819",
   "metadata": {},
   "outputs": [],
   "source": []
  }
 ],
 "metadata": {
  "kernelspec": {
   "display_name": "Python 3 (ipykernel)",
   "language": "python",
   "name": "python3"
  },
  "language_info": {
   "codemirror_mode": {
    "name": "ipython",
    "version": 3
   },
   "file_extension": ".py",
   "mimetype": "text/x-python",
   "name": "python",
   "nbconvert_exporter": "python",
   "pygments_lexer": "ipython3",
   "version": "3.9.7"
  }
 },
 "nbformat": 4,
 "nbformat_minor": 5
}
